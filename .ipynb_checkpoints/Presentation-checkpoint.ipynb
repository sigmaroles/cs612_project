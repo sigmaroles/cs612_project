{
 "cells": [
  {
   "cell_type": "markdown",
   "metadata": {},
   "source": [
    "## [Title goes here]\n",
    "### IITGN CS612 Fall 2017 - Project Checkpoint Presentation (13 November 2017)\n",
    "### Sohhom Bandyopadhyay (15510011) and Sujata Sinha (15350008)"
   ]
  },
  {
   "cell_type": "markdown",
   "metadata": {},
   "source": [
    "**Based on trace files from: ** <br>\n",
    "http://iotta.snia.org/tracetypes/3 (Nexus 5 Smartphone Traces) <br>\n",
    "Zhou, D., Pan, W., Wang, W., & Xie, T. (2015, October). I/O characteristics of smartphone applications and their implications for eMMC design. In Workload Characterization (IISWC), 2015 IEEE International Symposium on (pp. 12-21). IEEE.\n",
    "\n",
    "\n",
    "\n",
    "** Outline (this notebook):**\n",
    " - Description of trace file format\n",
    " - Extraction of timestamps from log files\n",
    " - Calculating correlation between request size and duration (e.g. turnaround time and hardware processing time)\n",
    " - plots of:\n",
    "    - plot1\n",
    "    - plot2\n",
    " - some more thing\n",
    " \n",
    "\n",
    "** ToDo (next two weeks): ** <br>\n",
    " -  Machine learning classifier to predict the block access"
   ]
  },
  {
   "cell_type": "markdown",
   "metadata": {},
   "source": [
    "## Trace file format:\n",
    "**column 0** : start address (in sectors) <br>\n",
    "**column 1** : access size (in sectors) <br>\n",
    "**column 2** : access size (in byte) <br>\n",
    "**column 3** : access type & waiting status (3 bit number):\n",
    " - LSB: indicates read (0) or write (1)\n",
    " - MSB: indicates waiting status (0 = yes, 1 = no)\n",
    " - Middle bit: unused <br>\n",
    " (It's not represented as binary, but as integers : 0, 1, 4 and 5 )\n",
    " <br>\n",
    " \n",
    "**column 4** : request generate time (generated and inserted into request queue). <br>\n",
    "**column 5** : request process start time (fetched and and began processing)  <br>\n",
    "**column 6** : request submit time (submitted to hardware) <br>\n",
    "**column 7** : request finish time (completed, callback function invoked)  <br>\n",
    "\n",
    "Thus, any request goes through 4 stages: push to queue -> start processing -> submit to hardware -> finish (callback)\n"
   ]
  },
  {
   "cell_type": "code",
   "execution_count": 18,
   "metadata": {
    "collapsed": true
   },
   "outputs": [],
   "source": [
    "import numpy as np\n",
    "import pandas as pd\n",
    "import matplotlib.pyplot as plt\n",
    "import os\n",
    "from datetime import datetime"
   ]
  },
  {
   "cell_type": "code",
   "execution_count": 2,
   "metadata": {
    "collapsed": true
   },
   "outputs": [],
   "source": [
    "data_dir = 'Trace_files'\n",
    "fnames = [x for x in filter(lambda x: x.endswith('.txt'), os.listdir(os.path.join('.', data_dir)))]\n",
    "workload_names = [ x for x in map(lambda x: x.split('_')[1].split('.')[0], fnames) ]"
   ]
  },
  {
   "cell_type": "code",
   "execution_count": 3,
   "metadata": {
    "collapsed": true
   },
   "outputs": [],
   "source": [
    "# a dict of dataframes, tread (index) lightly..\n",
    "dataset = {fname.split('_')[1].split('.')[0]:pd.read_csv(os.path.join(data_dir, fname), delimiter='\\s+', header = None, dtype = float) for fname in fnames for fname in fnames}"
   ]
  },
  {
   "cell_type": "markdown",
   "metadata": {},
   "source": [
    "## convert unix timestamps to datetime objects\n",
    "also, extract the request size"
   ]
  },
  {
   "cell_type": "code",
   "execution_count": 4,
   "metadata": {
    "collapsed": true
   },
   "outputs": [],
   "source": [
    "request_sizes = { workname:dataset[workname].iloc[:,2] for workname in workload_names }\n",
    "for cindx in 4, 5, 6, 7:\n",
    "    for df in dataset.values():\n",
    "        df.loc[:,cindx] = df.loc[:,cindx].apply(datetime.fromtimestamp)"
   ]
  },
  {
   "cell_type": "markdown",
   "metadata": {},
   "source": [
    "### Calculate durations\n",
    " ... of various processing stages"
   ]
  },
  {
   "cell_type": "code",
   "execution_count": 11,
   "metadata": {},
   "outputs": [],
   "source": [
    "turnaround_time = {}\n",
    "hw_time = {}\n",
    "for name in workload_names:\n",
    "    turnaround_time[name] = dataset[name].iloc[:,7] - dataset[name].iloc[:,4]\n",
    "    turnaround_time[name] = turnaround_time[name].apply(lambda x: x.components.milliseconds*1000+x.components.microseconds)\n",
    "    hw_time[name] = dataset[name].iloc[:,7] - dataset[name].iloc[:,6]\n",
    "    hw_time[name] = hw_time[name].apply(lambda x: x.components.milliseconds*1000+x.components.microseconds)"
   ]
  },
  {
   "cell_type": "markdown",
   "metadata": {},
   "source": [
    "### correlations, histograms"
   ]
  },
  {
   "cell_type": "code",
   "execution_count": 15,
   "metadata": {},
   "outputs": [],
   "source": [
    "corr_tat_hw = [turnaround_time[x].corr(hw_time[x]) for x in workload_names]\n",
    "corr_matrix_tat = {  for wname in workload_names }"
   ]
  },
  {
   "cell_type": "code",
   "execution_count": 16,
   "metadata": {},
   "outputs": [
    {
     "data": {
      "text/plain": [
       "[<matplotlib.lines.Line2D at 0x990fa58>]"
      ]
     },
     "execution_count": 16,
     "metadata": {},
     "output_type": "execute_result"
    }
   ],
   "source": [
    "plt.plot(time_corr)"
   ]
  },
  {
   "cell_type": "code",
   "execution_count": 17,
   "metadata": {},
   "outputs": [
    {
     "data": {
      "image/png": "[encoded data removed]",
      "text/plain": [
       "<matplotlib.figure.Figure at 0x9963160>"
      ]
     },
     "metadata": {},
     "output_type": "display_data"
    }
   ],
   "source": [
    "plt.show()"
   ]
  },
  {
   "cell_type": "code",
   "execution_count": null,
   "metadata": {
    "collapsed": true
   },
   "outputs": [],
   "source": []
  }
 ],
 "metadata": {
  "kernelspec": {
   "display_name": "Python 3",
   "language": "python",
   "name": "python3"
  },
  "language_info": {
   "codemirror_mode": {
    "name": "ipython",
    "version": 3
   },
   "file_extension": ".py",
   "mimetype": "text/x-python",
   "name": "python",
   "nbconvert_exporter": "python",
   "pygments_lexer": "ipython3",
   "version": "3.5.3"
  }
 },
 "nbformat": 4,
 "nbformat_minor": 2
}
