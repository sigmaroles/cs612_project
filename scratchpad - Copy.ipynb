{
 "cells": [
  {
   "cell_type": "code",
   "execution_count": 1,
   "metadata": {
    "collapsed": true
   },
   "outputs": [],
   "source": [
    "import pandas as pd\n",
    "import numpy as np\n",
    "import matplotlib.pyplot as plt\n",
    "import matplotlib\n",
    "import os\n",
    "import seaborn\n",
    "from datetime import datetime, timedelta"
   ]
  },
  {
   "cell_type": "code",
   "execution_count": null,
   "metadata": {
    "collapsed": true
   },
   "outputs": [],
   "source": [
    "font = {'family' : 'sans-serif',\n",
    "        'weight' : 'bold',\n",
    "        'size'   : 18}\n",
    "matplotlib.rc('font', **font)\n",
    "plt.rcParams[\"figure.figsize\"] = [17, 7]\n",
    "#plt.rcParams[\"\"] = False"
   ]
  },
  {
   "cell_type": "code",
   "execution_count": 2,
   "metadata": {
    "collapsed": true
   },
   "outputs": [],
   "source": [
    "data_dir = 'Trace_files'\n",
    "fnames = [x for x in filter(lambda x: x.endswith('.txt'), os.listdir(os.path.join('.', data_dir)))]\n",
    "workload_names = [ x for x in map(lambda x: x.split('_')[1].split('.')[0], fnames) ]"
   ]
  },
  {
   "cell_type": "code",
   "execution_count": 3,
   "metadata": {},
   "outputs": [],
   "source": [
    "# a dict of dataframes, tread (index) lightly..\n",
    "col_names = ['startAddress', 'reqSize_sectors', 'reqSize_bytes', 'readWriteWaitFlag', \n",
    "              't_generated', 't_startProcess', 't_exitQueue', 't_finished']\n",
    "dataset = {fname.split('_')[1].split('.')[0]:pd.read_csv(os.path.join(data_dir, fname), delimiter='\\s+', header = None, dtype = float) for fname in fnames}\n",
    "for wname in workload_names:\n",
    "    dataset[wname].columns = col_names\n",
    "# columns 4 through 7 contains the timestamps (floating point numbers), need to convert them into manipulable objects\n",
    "for cindx in 4, 5, 6, 7:\n",
    "    for df in dataset.values():\n",
    "        # apply transformation (non destructive) to each column, then store the updated column back in the dataframe\n",
    "        df.iloc[:,cindx] = df.iloc[:,cindx].apply(datetime.fromtimestamp)"
   ]
  },
  {
   "cell_type": "markdown",
   "metadata": {},
   "source": [
    "### Sector being accessed more than once, implicitly.."
   ]
  },
  {
   "cell_type": "code",
   "execution_count": 4,
   "metadata": {},
   "outputs": [
    {
     "data": {
      "text/html": [
       "<div>\n",
       "<style>\n",
       "    .dataframe thead tr:only-child th {\n",
       "        text-align: right;\n",
       "    }\n",
       "\n",
       "    .dataframe thead th {\n",
       "        text-align: left;\n",
       "    }\n",
       "\n",
       "    .dataframe tbody tr th {\n",
       "        vertical-align: top;\n",
       "    }\n",
       "</style>\n",
       "<table border=\"1\" class=\"dataframe\">\n",
       "  <thead>\n",
       "    <tr style=\"text-align: right;\">\n",
       "      <th></th>\n",
       "      <th>startAddress</th>\n",
       "      <th>reqSize_sectors</th>\n",
       "      <th>reqSize_bytes</th>\n",
       "      <th>readWriteWaitFlag</th>\n",
       "      <th>t_generated</th>\n",
       "      <th>t_startProcess</th>\n",
       "      <th>t_exitQueue</th>\n",
       "      <th>t_finished</th>\n",
       "    </tr>\n",
       "  </thead>\n",
       "  <tbody>\n",
       "    <tr>\n",
       "      <th>0</th>\n",
       "      <td>51707056.0</td>\n",
       "      <td>89.0</td>\n",
       "      <td>45568.0</td>\n",
       "      <td>5.0</td>\n",
       "      <td>2014-04-08 10:25:21.767840</td>\n",
       "      <td>2014-04-08 10:25:21.768273</td>\n",
       "      <td>2014-04-08 10:25:21.772367</td>\n",
       "      <td>2014-04-08 10:25:21.777534</td>\n",
       "    </tr>\n",
       "    <tr>\n",
       "      <th>1</th>\n",
       "      <td>51721376.0</td>\n",
       "      <td>281.0</td>\n",
       "      <td>143872.0</td>\n",
       "      <td>1.0</td>\n",
       "      <td>2014-04-08 10:25:21.768510</td>\n",
       "      <td>2014-04-08 10:25:21.772600</td>\n",
       "      <td>2014-04-08 10:25:21.777634</td>\n",
       "      <td>2014-04-08 10:25:21.791040</td>\n",
       "    </tr>\n",
       "    <tr>\n",
       "      <th>2</th>\n",
       "      <td>51865744.0</td>\n",
       "      <td>73.0</td>\n",
       "      <td>37376.0</td>\n",
       "      <td>1.0</td>\n",
       "      <td>2014-04-08 10:25:21.772781</td>\n",
       "      <td>2014-04-08 10:25:21.777782</td>\n",
       "      <td>2014-04-08 10:25:21.791130</td>\n",
       "      <td>2014-04-08 10:25:21.795952</td>\n",
       "    </tr>\n",
       "    <tr>\n",
       "      <th>3</th>\n",
       "      <td>4095328.0</td>\n",
       "      <td>104.0</td>\n",
       "      <td>53248.0</td>\n",
       "      <td>5.0</td>\n",
       "      <td>2014-04-08 10:25:22.176650</td>\n",
       "      <td>2014-04-08 10:25:22.176723</td>\n",
       "      <td>2014-04-08 10:25:22.180720</td>\n",
       "      <td>2014-04-08 10:25:22.184859</td>\n",
       "    </tr>\n",
       "    <tr>\n",
       "      <th>4</th>\n",
       "      <td>4095432.0</td>\n",
       "      <td>8.0</td>\n",
       "      <td>4096.0</td>\n",
       "      <td>5.0</td>\n",
       "      <td>2014-04-08 10:25:22.185035</td>\n",
       "      <td>2014-04-08 10:25:22.185142</td>\n",
       "      <td>2014-04-08 10:25:22.185153</td>\n",
       "      <td>2014-04-08 10:25:22.185846</td>\n",
       "    </tr>\n",
       "  </tbody>\n",
       "</table>\n",
       "</div>"
      ],
      "text/plain": [
       "   startAddress  reqSize_sectors  reqSize_bytes  readWriteWaitFlag  \\\n",
       "0    51707056.0             89.0        45568.0                5.0   \n",
       "1    51721376.0            281.0       143872.0                1.0   \n",
       "2    51865744.0             73.0        37376.0                1.0   \n",
       "3     4095328.0            104.0        53248.0                5.0   \n",
       "4     4095432.0              8.0         4096.0                5.0   \n",
       "\n",
       "                 t_generated             t_startProcess  \\\n",
       "0 2014-04-08 10:25:21.767840 2014-04-08 10:25:21.768273   \n",
       "1 2014-04-08 10:25:21.768510 2014-04-08 10:25:21.772600   \n",
       "2 2014-04-08 10:25:21.772781 2014-04-08 10:25:21.777782   \n",
       "3 2014-04-08 10:25:22.176650 2014-04-08 10:25:22.176723   \n",
       "4 2014-04-08 10:25:22.185035 2014-04-08 10:25:22.185142   \n",
       "\n",
       "                 t_exitQueue                 t_finished  \n",
       "0 2014-04-08 10:25:21.772367 2014-04-08 10:25:21.777534  \n",
       "1 2014-04-08 10:25:21.777634 2014-04-08 10:25:21.791040  \n",
       "2 2014-04-08 10:25:21.791130 2014-04-08 10:25:21.795952  \n",
       "3 2014-04-08 10:25:22.180720 2014-04-08 10:25:22.184859  \n",
       "4 2014-04-08 10:25:22.185153 2014-04-08 10:25:22.185846  "
      ]
     },
     "execution_count": 4,
     "metadata": {},
     "output_type": "execute_result"
    }
   ],
   "source": [
    "dataset['radio'].head()"
   ]
  },
  {
   "cell_type": "code",
   "execution_count": null,
   "metadata": {},
   "outputs": [],
   "source": [
    "for wname in workload_names:\n",
    "    dataset[wname]['reqSize_sectors_frombytes'] = dataset[wname]['reqSize_bytes'].apply(lambda x: x/512)"
   ]
  },
  {
   "cell_type": "code",
   "execution_count": null,
   "metadata": {},
   "outputs": [],
   "source": [
    "dataset['radio'].iloc[:100,[0,-1]]"
   ]
  },
  {
   "cell_type": "code",
   "execution_count": null,
   "metadata": {},
   "outputs": [],
   "source": []
  },
  {
   "cell_type": "code",
   "execution_count": null,
   "metadata": {
    "collapsed": true
   },
   "outputs": [],
   "source": []
  }
 ],
 "metadata": {
  "kernelspec": {
   "display_name": "Python 3",
   "language": "python",
   "name": "python3"
  },
  "language_info": {
   "codemirror_mode": {
    "name": "ipython",
    "version": 3
   },
   "file_extension": ".py",
   "mimetype": "text/x-python",
   "name": "python",
   "nbconvert_exporter": "python",
   "pygments_lexer": "ipython3",
   "version": "3.5.3"
  }
 },
 "nbformat": 4,
 "nbformat_minor": 2
}
