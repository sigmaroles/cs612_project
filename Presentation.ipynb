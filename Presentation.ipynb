{
 "cells": [
  {
   "cell_type": "markdown",
   "metadata": {},
   "source": [
    "## [Title goes here]\n",
    "### IITGN CS612 Fall 2017 - Project Checkpoint Presentation (13 November 2017)\n",
    "### Sohhom Bandyopadhyay (15510011) and Sujata Sinha (15350008)"
   ]
  },
  {
   "cell_type": "markdown",
   "metadata": {},
   "source": [
    "**Based on trace files from: ** <br>\n",
    "http://iotta.snia.org/tracetypes/3 (Nexus 5 Smartphone Traces) <br>\n",
    "Zhou, D., Pan, W., Wang, W., & Xie, T. (2015, October). I/O characteristics of smartphone applications and their implications for eMMC design. In Workload Characterization (IISWC), 2015 IEEE International Symposium on (pp. 12-21). IEEE.\n",
    "\n",
    "\n",
    "\n",
    "** Outline (this notebook):**\n",
    " - Description of trace file format\n",
    " - Extraction of timestamps from log files\n",
    " - Calculating correlation between request size and duration (e.g. turnaround time and hardware processing time)\n",
    " - plots of:\n",
    "    - plot1\n",
    "    - plot2\n",
    " - some more thing\n",
    " \n",
    "\n",
    "** ToDo (next two weeks): ** <br>\n",
    " -  Machine learning classifier to predict the block access"
   ]
  },
  {
   "cell_type": "markdown",
   "metadata": {},
   "source": [
    "## Trace file format:\n",
    "**column 0** : start address (in sectors) <br>\n",
    "**column 1** : access size (in sectors) <br>\n",
    "**column 2** : access size (in byte) <br>\n",
    "**column 3** : access type & waiting status (3 bit number):\n",
    " - LSB: indicates read (0) or write (1)\n",
    " - MSB: indicates waiting status (0 = yes, 1 = no)\n",
    " - Middle bit: unused <br>\n",
    " (It's not represented as binary, but as integers : 0, 1, 4 and 5 )\n",
    " <br>\n",
    " \n",
    "**column 4** : request generate time (the request been generated and inserted into request queue). <br>\n",
    "**column 5** : request process start time (the request been fetched and dequeue by mmc driver from request queue and begin to process)  <br>\n",
    "**column 6** : request submit time (submitted to hardware) <br>\n",
    "**column 7** : request finish time (time of the callback function been invoked after request completion)  <br>\n",
    "\n",
    "Thus, any request goes through 4 stages: push to queue -> start processing -> submit to hardware -> finish (callback)\n"
   ]
  },
  {
   "cell_type": "code",
   "execution_count": 1,
   "metadata": {
    "collapsed": true
   },
   "outputs": [],
   "source": [
    "import pandas as pd\n",
    "import matplotlib.pyplot as plt\n",
    "import os\n",
    "from datetime import datetime"
   ]
  },
  {
   "cell_type": "code",
   "execution_count": 2,
   "metadata": {
    "collapsed": true
   },
   "outputs": [],
   "source": [
    "data_dir = 'Trace_files'\n",
    "fnames = [x for x in filter(lambda x: x.endswith('.txt'), os.listdir(os.path.join('.', data_dir)))]"
   ]
  },
  {
   "cell_type": "code",
   "execution_count": 3,
   "metadata": {
    "collapsed": true
   },
   "outputs": [],
   "source": [
    "fname = fnames[0]\n",
    "df = pd.read_csv(os.path.join(data_dir, fname), delimiter='\\s+', header = None, dtype = float)"
   ]
  },
  {
   "cell_type": "code",
   "execution_count": 4,
   "metadata": {
    "collapsed": true
   },
   "outputs": [],
   "source": [
    "request_size = df.iloc[:,2]"
   ]
  },
  {
   "cell_type": "markdown",
   "metadata": {},
   "source": [
    "# preprocessing and creating new columns \n",
    " - Convert unix timestamps to datetime objects (so that they are readable and can perform arithmetic on them)\n",
    " - calculate durations of various processing stages"
   ]
  },
  {
   "cell_type": "code",
   "execution_count": 5,
   "metadata": {
    "collapsed": true
   },
   "outputs": [],
   "source": [
    "for cindx in 4, 5, 6, 7:\n",
    "    df.loc[:,cindx] = df.loc[:,cindx].apply(datetime.fromtimestamp)"
   ]
  },
  {
   "cell_type": "code",
   "execution_count": 6,
   "metadata": {
    "collapsed": true
   },
   "outputs": [],
   "source": [
    "turnaround_time = df.iloc[:,7] - df.iloc[:,4]\n",
    "turnaround_time = turnaround_time.apply(lambda x: x.components.milliseconds*1000+x.components.microseconds)\n",
    "hw_processing_time = df.iloc[:,7] - df.iloc[:,6]\n",
    "hw_processing_time = hw_processing_time.apply(lambda x: x.components.milliseconds*1000+x.components.microseconds)"
   ]
  },
  {
   "cell_type": "code",
   "execution_count": 8,
   "metadata": {},
   "outputs": [
    {
     "data": {
      "text/plain": [
       "array([ 5.,  1.,  4.,  0.])"
      ]
     },
     "execution_count": 8,
     "metadata": {},
     "output_type": "execute_result"
    }
   ],
   "source": [
    "df.iloc[:,3].unique()"
   ]
  },
  {
   "cell_type": "markdown",
   "metadata": {},
   "source": [
    "### check for various correlations"
   ]
  },
  {
   "cell_type": "code",
   "execution_count": 10,
   "metadata": {},
   "outputs": [
    {
     "data": {
      "text/plain": [
       "0.43529940771902798"
      ]
     },
     "execution_count": 10,
     "metadata": {},
     "output_type": "execute_result"
    }
   ],
   "source": [
    "turnaround_time.corr(request_size)"
   ]
  },
  {
   "cell_type": "code",
   "execution_count": 11,
   "metadata": {},
   "outputs": [
    {
     "data": {
      "text/plain": [
       "0.68328999175448069"
      ]
     },
     "execution_count": 11,
     "metadata": {},
     "output_type": "execute_result"
    }
   ],
   "source": [
    "hw_processing_time.corr(request_size)"
   ]
  },
  {
   "cell_type": "code",
   "execution_count": 12,
   "metadata": {},
   "outputs": [
    {
     "data": {
      "image/png": "[encoded data removed]",
      "text/plain": [
       "<matplotlib.figure.Figure at 0x96c40b8>"
      ]
     },
     "metadata": {},
     "output_type": "display_data"
    }
   ],
   "source": [
    "request_size.hist()\n",
    "plt.show()"
   ]
  },
  {
   "cell_type": "code",
   "execution_count": 13,
   "metadata": {},
   "outputs": [
    {
     "data": {
      "image/png": "[encoded data removed]",
      "text/plain": [
       "<matplotlib.figure.Figure at 0x9b0fc50>"
      ]
     },
     "metadata": {},
     "output_type": "display_data"
    }
   ],
   "source": [
    "hw_processing_time.hist()\n",
    "plt.show()"
   ]
  },
  {
   "cell_type": "code",
   "execution_count": 14,
   "metadata": {},
   "outputs": [
    {
     "data": {
      "image/png": "[encoded data removed]",
      "text/plain": [
       "<matplotlib.figure.Figure at 0x974d6d8>"
      ]
     },
     "metadata": {},
     "output_type": "display_data"
    }
   ],
   "source": [
    "turnaround_time.hist()\n",
    "plt.show()"
   ]
  },
  {
   "cell_type": "code",
   "execution_count": null,
   "metadata": {
    "collapsed": true
   },
   "outputs": [],
   "source": []
  }
 ],
 "metadata": {
  "kernelspec": {
   "display_name": "Python 3",
   "language": "python",
   "name": "python3"
  },
  "language_info": {
   "codemirror_mode": {
    "name": "ipython",
    "version": 3
   },
   "file_extension": ".py",
   "mimetype": "text/x-python",
   "name": "python",
   "nbconvert_exporter": "python",
   "pygments_lexer": "ipython3",
   "version": "3.5.3"
  }
 },
 "nbformat": 4,
 "nbformat_minor": 2
}
