{
 "cells": [
  {
   "cell_type": "code",
   "execution_count": 1,
   "metadata": {
    "collapsed": true
   },
   "outputs": [],
   "source": [
    "import pandas as pd\n",
    "import numpy as np\n",
    "import matplotlib.pyplot as plt\n",
    "import os\n",
    "from datetime import datetime"
   ]
  },
  {
   "cell_type": "code",
   "execution_count": 2,
   "metadata": {
    "collapsed": true
   },
   "outputs": [],
   "source": [
    "data_dir = 'Trace_files'\n",
    "fnames = [x for x in filter(lambda x: x.endswith('.txt'), os.listdir(os.path.join('.', data_dir)))]\n",
    "workload_names = [ x for x in map(lambda x: x.split('_')[1].split('.')[0], fnames) ]"
   ]
  },
  {
   "cell_type": "code",
   "execution_count": 3,
   "metadata": {
    "collapsed": true
   },
   "outputs": [],
   "source": [
    "# a dict of dataframes, tread (index) lightly..\n",
    "dataset = {fname.split('_')[1].split('.')[0]:pd.read_csv(os.path.join(data_dir, fname), delimiter='\\s+', header = None, dtype = float) for fname in fnames for fname in fnames}"
   ]
  },
  {
   "cell_type": "code",
   "execution_count": 4,
   "metadata": {
    "collapsed": true
   },
   "outputs": [],
   "source": [
    "request_sizes = { workname:dataset[workname].iloc[:,2] for workname in workload_names }\n",
    "for cindx in 4, 5, 6, 7:\n",
    "    for df in dataset.values():\n",
    "        df.loc[:,cindx] = df.loc[:,cindx].apply(datetime.fromtimestamp)"
   ]
  },
  {
   "cell_type": "code",
   "execution_count": 5,
   "metadata": {
    "collapsed": true
   },
   "outputs": [],
   "source": [
    "turnaround_time = {}\n",
    "hw_time = {}\n",
    "for name in workload_names:\n",
    "    turnaround_time[name] = dataset[name].iloc[:,7] - dataset[name].iloc[:,4]\n",
    "    turnaround_time[name] = turnaround_time[name].apply(lambda x: x.components.milliseconds*1000+x.components.microseconds)\n",
    "    hw_time[name] = dataset[name].iloc[:,7] - dataset[name].iloc[:,6]\n",
    "    hw_time[name] = hw_time[name].apply(lambda x: x.components.milliseconds*1000+x.components.microseconds)"
   ]
  },
  {
   "cell_type": "code",
   "execution_count": 6,
   "metadata": {
    "collapsed": true
   },
   "outputs": [],
   "source": [
    "avg_req_size_stdev = {x:np.std(request_sizes[x]) for x in workload_names}\n",
    "avg_req_size       = {x:np.mean(request_sizes[x]) for x in workload_names}"
   ]
  },
  {
   "cell_type": "code",
   "execution_count": 10,
   "metadata": {},
   "outputs": [
    {
     "data": {
      "text/html": [
       "<div>\n",
       "<style>\n",
       "    .dataframe thead tr:only-child th {\n",
       "        text-align: right;\n",
       "    }\n",
       "\n",
       "    .dataframe thead th {\n",
       "        text-align: left;\n",
       "    }\n",
       "\n",
       "    .dataframe tbody tr th {\n",
       "        vertical-align: top;\n",
       "    }\n",
       "</style>\n",
       "<table border=\"1\" class=\"dataframe\">\n",
       "  <thead>\n",
       "    <tr style=\"text-align: right;\">\n",
       "      <th></th>\n",
       "      <th>0</th>\n",
       "      <th>1</th>\n",
       "      <th>2</th>\n",
       "      <th>3</th>\n",
       "      <th>4</th>\n",
       "      <th>5</th>\n",
       "      <th>6</th>\n",
       "      <th>7</th>\n",
       "    </tr>\n",
       "  </thead>\n",
       "  <tbody>\n",
       "    <tr>\n",
       "      <th>0</th>\n",
       "      <td>8681184.0</td>\n",
       "      <td>88.0</td>\n",
       "      <td>45056.0</td>\n",
       "      <td>0.0</td>\n",
       "      <td>2014-04-25 11:03:19.646690</td>\n",
       "      <td>2014-04-25 11:03:19.652922</td>\n",
       "      <td>2014-04-25 11:03:19.653009</td>\n",
       "      <td>2014-04-25 11:03:19.653717</td>\n",
       "    </tr>\n",
       "    <tr>\n",
       "      <th>1</th>\n",
       "      <td>8681280.0</td>\n",
       "      <td>56.0</td>\n",
       "      <td>28672.0</td>\n",
       "      <td>0.0</td>\n",
       "      <td>2014-04-25 11:03:19.651066</td>\n",
       "      <td>2014-04-25 11:03:19.653123</td>\n",
       "      <td>2014-04-25 11:03:19.654584</td>\n",
       "      <td>2014-04-25 11:03:19.655161</td>\n",
       "    </tr>\n",
       "    <tr>\n",
       "      <th>2</th>\n",
       "      <td>8681344.0</td>\n",
       "      <td>56.0</td>\n",
       "      <td>28672.0</td>\n",
       "      <td>0.0</td>\n",
       "      <td>2014-04-25 11:03:19.651103</td>\n",
       "      <td>2014-04-25 11:03:19.654732</td>\n",
       "      <td>2014-04-25 11:03:19.655272</td>\n",
       "      <td>2014-04-25 11:03:19.655772</td>\n",
       "    </tr>\n",
       "    <tr>\n",
       "      <th>3</th>\n",
       "      <td>8681408.0</td>\n",
       "      <td>88.0</td>\n",
       "      <td>45056.0</td>\n",
       "      <td>0.0</td>\n",
       "      <td>2014-04-25 11:03:19.651144</td>\n",
       "      <td>2014-04-25 11:03:19.655384</td>\n",
       "      <td>2014-04-25 11:03:19.655805</td>\n",
       "      <td>2014-04-25 11:03:19.656554</td>\n",
       "    </tr>\n",
       "    <tr>\n",
       "      <th>4</th>\n",
       "      <td>8681504.0</td>\n",
       "      <td>16.0</td>\n",
       "      <td>8192.0</td>\n",
       "      <td>0.0</td>\n",
       "      <td>2014-04-25 11:03:19.651163</td>\n",
       "      <td>2014-04-25 11:03:19.655915</td>\n",
       "      <td>2014-04-25 11:03:19.656590</td>\n",
       "      <td>2014-04-25 11:03:19.656891</td>\n",
       "    </tr>\n",
       "  </tbody>\n",
       "</table>\n",
       "</div>"
      ],
      "text/plain": [
       "           0     1        2    3                          4  \\\n",
       "0  8681184.0  88.0  45056.0  0.0 2014-04-25 11:03:19.646690   \n",
       "1  8681280.0  56.0  28672.0  0.0 2014-04-25 11:03:19.651066   \n",
       "2  8681344.0  56.0  28672.0  0.0 2014-04-25 11:03:19.651103   \n",
       "3  8681408.0  88.0  45056.0  0.0 2014-04-25 11:03:19.651144   \n",
       "4  8681504.0  16.0   8192.0  0.0 2014-04-25 11:03:19.651163   \n",
       "\n",
       "                           5                          6  \\\n",
       "0 2014-04-25 11:03:19.652922 2014-04-25 11:03:19.653009   \n",
       "1 2014-04-25 11:03:19.653123 2014-04-25 11:03:19.654584   \n",
       "2 2014-04-25 11:03:19.654732 2014-04-25 11:03:19.655272   \n",
       "3 2014-04-25 11:03:19.655384 2014-04-25 11:03:19.655805   \n",
       "4 2014-04-25 11:03:19.655915 2014-04-25 11:03:19.656590   \n",
       "\n",
       "                           7  \n",
       "0 2014-04-25 11:03:19.653717  \n",
       "1 2014-04-25 11:03:19.655161  \n",
       "2 2014-04-25 11:03:19.655772  \n",
       "3 2014-04-25 11:03:19.656554  \n",
       "4 2014-04-25 11:03:19.656891  "
      ]
     },
     "execution_count": 10,
     "metadata": {},
     "output_type": "execute_result"
    }
   ],
   "source": [
    "df = dataset['Movie']\n",
    "df.head()"
   ]
  },
  {
   "cell_type": "code",
   "execution_count": 23,
   "metadata": {},
   "outputs": [
    {
     "data": {
      "text/plain": [
       "-82"
      ]
     },
     "execution_count": 23,
     "metadata": {},
     "output_type": "execute_result"
    }
   ],
   "source": [
    "df.iloc[:,0].unique().shape[0] - df.iloc[:,0].shape[0]"
   ]
  },
  {
   "cell_type": "code",
   "execution_count": 19,
   "metadata": {},
   "outputs": [],
   "source": [
    "df.iloc[:,0] = df.iloc[:,0].map(int)"
   ]
  },
  {
   "cell_type": "code",
   "execution_count": 21,
   "metadata": {},
   "outputs": [
    {
     "data": {
      "text/plain": [
       "<matplotlib.axes._subplots.AxesSubplot at 0xb8ebda0>"
      ]
     },
     "execution_count": 21,
     "metadata": {},
     "output_type": "execute_result"
    }
   ],
   "source": [
    "df.iloc[:,0].plot()"
   ]
  },
  {
   "cell_type": "code",
   "execution_count": 22,
   "metadata": {},
   "outputs": [
    {
     "data": {
      "image/png": "[encoded data removed]",
      "text/plain": [
       "<matplotlib.figure.Figure at 0x9ad6128>"
      ]
     },
     "metadata": {},
     "output_type": "display_data"
    }
   ],
   "source": [
    "plt.show()"
   ]
  },
  {
   "cell_type": "code",
   "execution_count": null,
   "metadata": {
    "collapsed": true
   },
   "outputs": [],
   "source": []
  }
 ],
 "metadata": {
  "kernelspec": {
   "display_name": "Python 3",
   "language": "python",
   "name": "python3"
  },
  "language_info": {
   "codemirror_mode": {
    "name": "ipython",
    "version": 3
   },
   "file_extension": ".py",
   "mimetype": "text/x-python",
   "name": "python",
   "nbconvert_exporter": "python",
   "pygments_lexer": "ipython3",
   "version": "3.5.3"
  }
 },
 "nbformat": 4,
 "nbformat_minor": 2
}
